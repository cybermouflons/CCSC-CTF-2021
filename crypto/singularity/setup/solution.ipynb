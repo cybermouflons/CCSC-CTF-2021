{
 "cells": [
  {
   "cell_type": "code",
   "execution_count": 7,
   "metadata": {},
   "outputs": [
    {
     "name": "stdout",
     "output_type": "stream",
     "text": [
      "Collecting parse\n",
      "  Downloading https://files.pythonhosted.org/packages/89/a1/82ce536be577ba09d4dcee45db58423a180873ad38a2d014d26ab7b7cb8a/parse-1.19.0.tar.gz\n",
      "Installing collected packages: parse\n",
      "  Running setup.py install for parse ... \u001b[?25ldone\n",
      "\u001b[?25hSuccessfully installed parse-1.19.0\n"
     ]
    }
   ],
   "source": [
    "!pip install parse"
   ]
  },
  {
   "cell_type": "code",
   "execution_count": 40,
   "metadata": {},
   "outputs": [],
   "source": [
    "from parse import parse\n",
    "\n",
    "with open(\"encrypt.py\") as f:\n",
    "    lines = f.readlines()\n",
    "    \n",
    "for line in lines:\n",
    "    if line.startswith(\"# y**2 = x**3\"):\n",
    "        r = parse(\"# y**2 = x**3 + {A:d}x + {B:d} mod {p:d}\\n\", line)\n",
    "        a, b, p = r['A'], r['B'], r['p']\n",
    "    elif line.startswith(\"# G = \"):\n",
    "        r = parse(\"# G = ({G_x:d}, {G_y:d})\\n\", line)\n",
    "        G = (r[\"G_x\"], r[\"G_y\"])\n",
    "    elif line.startswith(\"# P = \"):\n",
    "        r = parse(\"# P = d1*G = ({P_x:d}, {P_y:d})\\n\", line)\n",
    "        P = (r[\"P_x\"], r[\"P_y\"])\n",
    "    elif line.startswith(\"# Q = \"):\n",
    "        r = parse(\"# Q = d2*G = ({Q_x:d}, {Q_y:d})\\n\", line)\n",
    "        Q = (r[\"Q_x\"], r[\"Q_y\"])"
   ]
  },
  {
   "cell_type": "code",
   "execution_count": 46,
   "metadata": {},
   "outputs": [
    {
     "name": "stdout",
     "output_type": "stream",
     "text": [
      "p:  182462312014140697638038975626298609449\n",
      "A:  65310995572536136450511650838515808868\n",
      "B:  106519597245410831722195678420368109098\n",
      "Curve:  Affine Plane Curve over Finite Field of size 182462312014140697638038975626298609449 defined by x^3 - y^2 + 65310995572536136450511650838515808868*x + 106519597245410831722195678420368109098\n",
      "Singular Point at:  (133631467781550555640456795284176136372, 0)\n",
      "Translating curve....\n",
      "k^3 + 35969779316370271645292434599931190218*k^2\n",
      "(k + 35969779316370271645292434599931190218) * k^2\n",
      "t^2 == 35969779316370271645292434599931190218\n",
      "t:  61730201295755296112665537681895738495\n",
      "Discrete Log 1:  67\n",
      "Discrete Log 2:  61\n"
     ]
    }
   ],
   "source": [
    "set_verbose(-2)\n",
    "\n",
    "print(\"p: \", p)\n",
    "print(\"A: \", a)\n",
    "print(\"B: \", b)\n",
    "\n",
    "F = GF(p)\n",
    "R.<k>=PolynomialRing(F)\n",
    "\n",
    "A.<x,y>=F[]\n",
    "C=Curve(x^3+a*x+b-y^2)\n",
    "\n",
    "print(\"Curve: \", C)\n",
    "assert C.is_singular()\n",
    "\n",
    "R.<k> = PolynomialRing(F)\n",
    "E = k^3 + a*k + b\n",
    "\n",
    "S = C.singular_points()[0];\n",
    "print(\"Singular Point at: \", S)\n",
    "\n",
    "print(\"Translating curve....\")\n",
    "\n",
    "E_ = E.subs(k=k+S[0])\n",
    "P_ = (P[0] - S[0], P[1])\n",
    "Q_ = (Q[0] - S[0], Q[1])\n",
    "G_ = (G[0] - S[0], G[1])\n",
    "\n",
    "print(E_)\n",
    "E_f =  E_.factor()\n",
    "\n",
    "print(E_f)\n",
    "\n",
    "assert (0, 0) == (0, E_(0))\n",
    "\n",
    "t = E_f[0][0][0].square_root()\n",
    "print(\"t^2 == {0}\".format(E_f[0][0][0]))\n",
    "print(\"t: \", t)\n",
    "\n",
    "assert t in F\n",
    "\n",
    "Fg = (G_[1] + t*G_[0]) / (G_[1] - t*G_[0]) % p\n",
    "Fq = (Q_[1] + t*Q_[0]) / (Q_[1] - t*Q_[0]) % p\n",
    "Fp = (P_[1] + t*P_[0]) / (P_[1] - t*P_[0]) % p\n",
    "\n",
    "dl1 = Fp.log(Fg)\n",
    "print(\"Discrete Log 1: \", dl1)\n",
    "\n",
    "dl2 = Fq.log(Fg)\n",
    "print(\"Discrete Log 2: \", dl2)"
   ]
  },
  {
   "cell_type": "code",
   "execution_count": 47,
   "metadata": {},
   "outputs": [
    {
     "name": "stdout",
     "output_type": "stream",
     "text": [
      "Recovered Secret:  (162095609942794850085388820408955312963, 78517405429294096943365337739114049685)\n"
     ]
    }
   ],
   "source": [
    "# Ref: Elliptic Curves: Number theory and Cryptography. Theorem 2.31 Page 62\n",
    "\n",
    "Fk =  F ((Fg ^ dl1) ^ dl2)\n",
    "\n",
    "Kx = F(4* (t^2) * Fk) / F((Fk - 1)^2)\n",
    "Ky = F(4 * (t ^ 3) * Fk * (Fk + 1)) / F((Fk - 1)^3)\n",
    "K = (Kx+S[0], Ky)\n",
    "\n",
    "print(\"Recovered Secret: \", K)"
   ]
  },
  {
   "cell_type": "code",
   "execution_count": 50,
   "metadata": {},
   "outputs": [
    {
     "name": "stdout",
     "output_type": "stream",
     "text": [
      "b'CCSC{s1ngul4r_curv3s_4r3_n0t_re4lly_3ll1pt1c_curv3s!!}          '\n"
     ]
    }
   ],
   "source": [
    "from Crypto.Cipher import AES\n",
    "from hashlib import sha256\n",
    "\n",
    "aes = AES.new(sha256(int(K[0]).to_bytes(Integer(16), 'big')).digest(), AES.MODE_ECB)\n",
    "flag_enc = bytes.fromhex(open('flag.enc').read().strip())\n",
    "flag = aes.decrypt(flag_enc);\n",
    "\n",
    "print(flag)\n"
   ]
  },
  {
   "cell_type": "code",
   "execution_count": null,
   "metadata": {},
   "outputs": [],
   "source": []
  }
 ],
 "metadata": {
  "kernelspec": {
   "display_name": "SageMath 9.0",
   "language": "sage",
   "name": "sagemath"
  },
  "language_info": {
   "codemirror_mode": {
    "name": "ipython",
    "version": 3
   },
   "file_extension": ".py",
   "mimetype": "text/x-python",
   "name": "python",
   "nbconvert_exporter": "python",
   "pygments_lexer": "ipython3",
   "version": "3.7.3"
  }
 },
 "nbformat": 4,
 "nbformat_minor": 2
}
